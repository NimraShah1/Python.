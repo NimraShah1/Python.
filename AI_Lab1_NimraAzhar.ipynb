{
 "cells": [
  {
   "cell_type": "markdown",
   "id": "537dcce9-10eb-4911-827d-1e498067da7c",
   "metadata": {},
   "source": [
    "# Lab_1"
   ]
  },
  {
   "cell_type": "code",
   "execution_count": 1,
   "id": "6cff56e4-f518-4dfc-ace6-e7974ae929f7",
   "metadata": {},
   "outputs": [
    {
     "name": "stdout",
     "output_type": "stream",
     "text": [
      "Hello AI World\n"
     ]
    }
   ],
   "source": [
    "print(\"Hello AI World\") #print"
   ]
  },
  {
   "cell_type": "code",
   "execution_count": 23,
   "id": "ab5b7ea6-c9a2-4b15-a9e4-f089a4688f08",
   "metadata": {},
   "outputs": [
    {
     "name": "stdout",
     "output_type": "stream",
     "text": [
      "Name: Nimra Azhar\n",
      "Roll No: 32\n",
      "CGPA: 3.19\n"
     ]
    }
   ],
   "source": [
    "name =\"Nimra Azhar\" #Simple Print\n",
    "roll_no = 32\n",
    "cgpa = 3.19\n",
    "print(\"Name:\" ,name)\n",
    "print(\"Roll No:\",roll_no)\n",
    "print(\"CGPA:\" ,cgpa)"
   ]
  },
  {
   "cell_type": "code",
   "execution_count": 5,
   "id": "9bf22a39-345c-4051-8f30-5ec8f33f0331",
   "metadata": {},
   "outputs": [
    {
     "name": "stdout",
     "output_type": "stream",
     "text": [
      "1\n",
      "2\n",
      "3\n",
      "4\n",
      "5\n",
      "6\n",
      "7\n",
      "8\n",
      "9\n",
      "10\n"
     ]
    }
   ],
   "source": [
    "for i in range(1,11): #Print the numbers 1 to 10 by using range  \n",
    "    print(i)"
   ]
  },
  {
   "cell_type": "code",
   "execution_count": 6,
   "id": "6d099fd9-76d5-4fc0-8fff-d6c0249fd44e",
   "metadata": {},
   "outputs": [
    {
     "name": "stdout",
     "output_type": "stream",
     "text": [
      "2\n",
      "4\n",
      "6\n",
      "8\n",
      "10\n"
     ]
    }
   ],
   "source": [
    "for i in range(2, 11, 2): #Print only even numbers\n",
    "    print(i)\n"
   ]
  },
  {
   "cell_type": "code",
   "execution_count": 24,
   "id": "1154519c-748d-46b6-9132-3ea4b4e0dfc3",
   "metadata": {},
   "outputs": [
    {
     "name": "stdout",
     "output_type": "stream",
     "text": [
      "Factorial of 5: 120\n"
     ]
    }
   ],
   "source": [
    "def factorial(n):  # Factorial function\n",
    "    result = 1\n",
    "    for i in range(1, n + 1):\n",
    "        result *= i\n",
    "    return result  \n",
    "print(\"Factorial of 5:\", factorial(5))\n"
   ]
  },
  {
   "cell_type": "code",
   "execution_count": 25,
   "id": "067d1694-83fe-4baf-b563-cb16a10d001a",
   "metadata": {},
   "outputs": [
    {
     "name": "stdin",
     "output_type": "stream",
     "text": [
      "Enter a number to find its factorial:  4\n"
     ]
    },
    {
     "name": "stdout",
     "output_type": "stream",
     "text": [
      "Factorial of 4 is: 24\n"
     ]
    }
   ],
   "source": [
    "def factorial(n):   #Fcatorail input From user\n",
    "    result = 1\n",
    "    for i in range(1, n + 1):\n",
    "        result *= i\n",
    "    return result\n",
    "num = int(input(\"Enter a number to find its factorial: \"))\n",
    "print(\"Factorial of\", num, \"is:\", factorial(num))\n"
   ]
  },
  {
   "cell_type": "code",
   "execution_count": 12,
   "id": "fe7eadf5-dc91-49de-a544-7b25ad08f86c",
   "metadata": {},
   "outputs": [
    {
     "name": "stdin",
     "output_type": "stream",
     "text": [
      "Enter marks:  60\n"
     ]
    },
    {
     "name": "stdout",
     "output_type": "stream",
     "text": [
      "Pass\n"
     ]
    }
   ],
   "source": [
    "marks =int(input(\"Enter marks: \")) #Conditions \n",
    "if marks >= 50:\n",
    "    print(\"Pass\")\n",
    "else:\n",
    "    print(\"Fail\")"
   ]
  },
  {
   "cell_type": "code",
   "execution_count": 15,
   "id": "f26a079c-87b6-4096-aece-a95e6319afab",
   "metadata": {},
   "outputs": [
    {
     "name": "stdin",
     "output_type": "stream",
     "text": [
      "Enter marks:  88\n"
     ]
    },
    {
     "name": "stdout",
     "output_type": "stream",
     "text": [
      "A grade\n"
     ]
    }
   ],
   "source": [
    "marks =int(input(\"Enter marks: \"))\n",
    "if marks >=80:\n",
    "     print(\"A grade\")\n",
    "else:\n",
    "     print(\"Not A garde\")"
   ]
  },
  {
   "cell_type": "code",
   "execution_count": 18,
   "id": "a84995b7-b82a-48c7-9fa3-93751a27fd35",
   "metadata": {},
   "outputs": [
    {
     "name": "stdin",
     "output_type": "stream",
     "text": [
      "Enter marks:  66\n"
     ]
    },
    {
     "name": "stdout",
     "output_type": "stream",
     "text": [
      "B grade\n"
     ]
    }
   ],
   "source": [
    "marks =int(input(\"Enter marks: \"))\n",
    "if marks >= 60:\n",
    "    print(\"B grade\")\n",
    "else:\n",
    "    print(\"Not B grade\")"
   ]
  },
  {
   "cell_type": "code",
   "execution_count": 20,
   "id": "08e957cd-c901-4a27-91fd-54b929abe5b4",
   "metadata": {},
   "outputs": [
    {
     "name": "stdin",
     "output_type": "stream",
     "text": [
      "Enter the marks: 55\n"
     ]
    },
    {
     "name": "stdout",
     "output_type": "stream",
     "text": [
      "C grade\n"
     ]
    }
   ],
   "source": [
    "marks =int(input(\"Enter the marks:\"))\n",
    "if marks >=50:\n",
    "           print(\"C grade\")\n",
    "else:\n",
    "    print(\"Not C grade\")\n"
   ]
  },
  {
   "cell_type": "code",
   "execution_count": 21,
   "id": "30efe4cb-0563-47d3-ac0c-cac6b2dba6f8",
   "metadata": {},
   "outputs": [
    {
     "name": "stdin",
     "output_type": "stream",
     "text": [
      "Enter the marks: 66\n"
     ]
    },
    {
     "name": "stdout",
     "output_type": "stream",
     "text": [
      "You are not Fail\n"
     ]
    }
   ],
   "source": [
    "marks=int(input(\"Enter the marks:\"))\n",
    "if marks <50:\n",
    "    print(\"Fail\")\n",
    "else:\n",
    "    print(\"You are not Fail\")"
   ]
  }
 ],
 "metadata": {
  "kernelspec": {
   "display_name": "Python [conda env:base] *",
   "language": "python",
   "name": "conda-base-py"
  },
  "language_info": {
   "codemirror_mode": {
    "name": "ipython",
    "version": 3
   },
   "file_extension": ".py",
   "mimetype": "text/x-python",
   "name": "python",
   "nbconvert_exporter": "python",
   "pygments_lexer": "ipython3",
   "version": "3.13.5"
  }
 },
 "nbformat": 4,
 "nbformat_minor": 5
}
